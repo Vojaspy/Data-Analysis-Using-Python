{
 "cells": [
  {
   "cell_type": "code",
   "execution_count": 1,
   "id": "f47ed423",
   "metadata": {},
   "outputs": [
    {
     "name": "stdout",
     "output_type": "stream",
     "text": [
      "Hello\n"
     ]
    }
   ],
   "source": [
    "print(\"Hello\")"
   ]
  },
  {
   "cell_type": "code",
   "execution_count": 2,
   "id": "3627b640",
   "metadata": {},
   "outputs": [
    {
     "data": {
      "text/plain": [
       "2.857142857142857"
      ]
     },
     "execution_count": 2,
     "metadata": {},
     "output_type": "execute_result"
    }
   ],
   "source": [
    "20/7"
   ]
  },
  {
   "cell_type": "code",
   "execution_count": 3,
   "id": "ca2ed7fc",
   "metadata": {},
   "outputs": [
    {
     "data": {
      "text/plain": [
       "2"
      ]
     },
     "execution_count": 3,
     "metadata": {},
     "output_type": "execute_result"
    }
   ],
   "source": [
    "20//7"
   ]
  },
  {
   "cell_type": "code",
   "execution_count": 4,
   "id": "786c295d",
   "metadata": {},
   "outputs": [
    {
     "data": {
      "text/plain": [
       "125"
      ]
     },
     "execution_count": 4,
     "metadata": {},
     "output_type": "execute_result"
    }
   ],
   "source": [
    "5**3"
   ]
  },
  {
   "cell_type": "code",
   "execution_count": 5,
   "id": "93311c2e",
   "metadata": {},
   "outputs": [
    {
     "ename": "SyntaxError",
     "evalue": "invalid syntax (3552313598.py, line 1)",
     "output_type": "error",
     "traceback": [
      "\u001b[1;36m  Input \u001b[1;32mIn [5]\u001b[1;36m\u001b[0m\n\u001b[1;33m    myString = 'One flew over cuckoo's\u001b[0m\n\u001b[1;37m                                     ^\u001b[0m\n\u001b[1;31mSyntaxError\u001b[0m\u001b[1;31m:\u001b[0m invalid syntax\n"
     ]
    }
   ],
   "source": [
    "myString = 'One flew over cuckoo's"
   ]
  },
  {
   "cell_type": "code",
   "execution_count": 6,
   "id": "054965ea",
   "metadata": {},
   "outputs": [],
   "source": [
    "myString = 'one flew over cuckoo\\'s nest'"
   ]
  },
  {
   "cell_type": "code",
   "execution_count": 7,
   "id": "66a811ee",
   "metadata": {},
   "outputs": [
    {
     "data": {
      "text/plain": [
       "\"one flew over cuckoo's nest\""
      ]
     },
     "execution_count": 7,
     "metadata": {},
     "output_type": "execute_result"
    }
   ],
   "source": [
    "myString"
   ]
  },
  {
   "cell_type": "code",
   "execution_count": 8,
   "id": "50870145",
   "metadata": {},
   "outputs": [],
   "source": [
    "myString = \"One flew over cuckoo's nest\""
   ]
  },
  {
   "cell_type": "code",
   "execution_count": 9,
   "id": "ffde9cc8",
   "metadata": {},
   "outputs": [
    {
     "data": {
      "text/plain": [
       "\"One flew over cuckoo's nest\""
      ]
     },
     "execution_count": 9,
     "metadata": {},
     "output_type": "execute_result"
    }
   ],
   "source": [
    "myString"
   ]
  },
  {
   "cell_type": "code",
   "execution_count": 10,
   "id": "81ee39ab",
   "metadata": {},
   "outputs": [],
   "source": [
    "today = \"Saturday\""
   ]
  },
  {
   "cell_type": "code",
   "execution_count": 11,
   "id": "20066b04",
   "metadata": {},
   "outputs": [
    {
     "data": {
      "text/plain": [
       "'saturday'"
      ]
     },
     "execution_count": 11,
     "metadata": {},
     "output_type": "execute_result"
    }
   ],
   "source": [
    "today.lower()"
   ]
  },
  {
   "cell_type": "code",
   "execution_count": 12,
   "id": "ceebb8cb",
   "metadata": {},
   "outputs": [
    {
     "data": {
      "text/plain": [
       "'Saturday'"
      ]
     },
     "execution_count": 12,
     "metadata": {},
     "output_type": "execute_result"
    }
   ],
   "source": [
    "today.capitalize()"
   ]
  },
  {
   "cell_type": "code",
   "execution_count": 13,
   "id": "255f5f72",
   "metadata": {},
   "outputs": [
    {
     "data": {
      "text/plain": [
       "'SATURDAY'"
      ]
     },
     "execution_count": 13,
     "metadata": {},
     "output_type": "execute_result"
    }
   ],
   "source": [
    "today.upper()"
   ]
  },
  {
   "cell_type": "code",
   "execution_count": 14,
   "id": "8cda5da2",
   "metadata": {},
   "outputs": [
    {
     "data": {
      "text/plain": [
       "'Saturday'"
      ]
     },
     "execution_count": 14,
     "metadata": {},
     "output_type": "execute_result"
    }
   ],
   "source": [
    "today"
   ]
  },
  {
   "cell_type": "code",
   "execution_count": 15,
   "id": "9b3a48d4",
   "metadata": {},
   "outputs": [],
   "source": [
    "another_day = today.replace(\"Satur\",\"wednes\")"
   ]
  },
  {
   "cell_type": "code",
   "execution_count": 16,
   "id": "7dc3227a",
   "metadata": {},
   "outputs": [
    {
     "data": {
      "text/plain": [
       "'wednesday'"
      ]
     },
     "execution_count": 16,
     "metadata": {},
     "output_type": "execute_result"
    }
   ],
   "source": [
    "another_day"
   ]
  },
  {
   "cell_type": "code",
   "execution_count": 17,
   "id": "1f502051",
   "metadata": {},
   "outputs": [],
   "source": [
    "a_long_line = \"                 Hello\""
   ]
  },
  {
   "cell_type": "code",
   "execution_count": 18,
   "id": "ba46cbd7",
   "metadata": {},
   "outputs": [],
   "source": [
    "a_long_line_stripped = a_long_line.strip()"
   ]
  },
  {
   "cell_type": "code",
   "execution_count": 19,
   "id": "a79e0c1e",
   "metadata": {},
   "outputs": [
    {
     "data": {
      "text/plain": [
       "'Hello'"
      ]
     },
     "execution_count": 19,
     "metadata": {},
     "output_type": "execute_result"
    }
   ],
   "source": [
    "a_long_line_stripped"
   ]
  },
  {
   "cell_type": "code",
   "execution_count": 20,
   "id": "f0249aea",
   "metadata": {},
   "outputs": [],
   "source": [
    "cost = 200\n",
    "profit_margin = 0.5\n",
    "number_of_bags = 500\n",
    "\n",
    "\n",
    "output_template = \"\"\" If a grocery store sells ice bags at $ {} per bag with profit margin of $ {} then total profit is {} \"\"\""
   ]
  },
  {
   "cell_type": "code",
   "execution_count": 21,
   "id": "33fe7f5c",
   "metadata": {},
   "outputs": [
    {
     "data": {
      "text/plain": [
       "' If a grocery store sells ice bags at $ {} per bag with profit margin of $ {} then total profit is {} '"
      ]
     },
     "execution_count": 21,
     "metadata": {},
     "output_type": "execute_result"
    }
   ],
   "source": [
    "output_template"
   ]
  },
  {
   "cell_type": "code",
   "execution_count": 22,
   "id": "62ab3f44",
   "metadata": {},
   "outputs": [],
   "source": [
    "total_profit = cost*profit_margin*number_of_bags"
   ]
  },
  {
   "cell_type": "code",
   "execution_count": 23,
   "id": "22e8b44a",
   "metadata": {},
   "outputs": [],
   "source": [
    "output_message = output_template.format(cost,profit_margin,total_profit)"
   ]
  },
  {
   "cell_type": "code",
   "execution_count": 24,
   "id": "f247e314",
   "metadata": {},
   "outputs": [
    {
     "data": {
      "text/plain": [
       "' If a grocery store sells ice bags at $ 200 per bag with profit margin of $ 0.5 then total profit is 50000.0 '"
      ]
     },
     "execution_count": 24,
     "metadata": {},
     "output_type": "execute_result"
    }
   ],
   "source": [
    "output_message"
   ]
  },
  {
   "cell_type": "code",
   "execution_count": 25,
   "id": "30278faa",
   "metadata": {},
   "outputs": [],
   "source": [
    "fruits = ['hello',23,None]"
   ]
  },
  {
   "cell_type": "code",
   "execution_count": 26,
   "id": "c55677b1",
   "metadata": {},
   "outputs": [
    {
     "data": {
      "text/plain": [
       "['hello', 23, None]"
      ]
     },
     "execution_count": 26,
     "metadata": {},
     "output_type": "execute_result"
    }
   ],
   "source": [
    "fruits"
   ]
  },
  {
   "cell_type": "code",
   "execution_count": 27,
   "id": "b94ba378",
   "metadata": {},
   "outputs": [
    {
     "data": {
      "text/plain": [
       "3"
      ]
     },
     "execution_count": 27,
     "metadata": {},
     "output_type": "execute_result"
    }
   ],
   "source": [
    "len(fruits)"
   ]
  },
  {
   "cell_type": "code",
   "execution_count": 28,
   "id": "abef17b9",
   "metadata": {},
   "outputs": [
    {
     "data": {
      "text/plain": [
       "23"
      ]
     },
     "execution_count": 28,
     "metadata": {},
     "output_type": "execute_result"
    }
   ],
   "source": [
    "fruits[1]"
   ]
  },
  {
   "cell_type": "code",
   "execution_count": 29,
   "id": "9b82da98",
   "metadata": {},
   "outputs": [
    {
     "data": {
      "text/plain": [
       "23"
      ]
     },
     "execution_count": 29,
     "metadata": {},
     "output_type": "execute_result"
    }
   ],
   "source": [
    "fruits[-2]"
   ]
  },
  {
   "cell_type": "code",
   "execution_count": 30,
   "id": "006a8df6",
   "metadata": {},
   "outputs": [],
   "source": [
    "lis = ['hello',23,None,2.14]\n"
   ]
  },
  {
   "cell_type": "code",
   "execution_count": 31,
   "id": "57f52711",
   "metadata": {},
   "outputs": [
    {
     "data": {
      "text/plain": [
       "4"
      ]
     },
     "execution_count": 31,
     "metadata": {},
     "output_type": "execute_result"
    }
   ],
   "source": [
    "len(lis)"
   ]
  },
  {
   "cell_type": "code",
   "execution_count": 32,
   "id": "043aac7f",
   "metadata": {},
   "outputs": [
    {
     "data": {
      "text/plain": [
       "[23, None]"
      ]
     },
     "execution_count": 32,
     "metadata": {},
     "output_type": "execute_result"
    }
   ],
   "source": [
    "lis[1:3]"
   ]
  },
  {
   "cell_type": "code",
   "execution_count": 33,
   "id": "2b65d2a5",
   "metadata": {},
   "outputs": [],
   "source": [
    "fruits.append(\"banana\")"
   ]
  },
  {
   "cell_type": "code",
   "execution_count": 34,
   "id": "d28b262b",
   "metadata": {},
   "outputs": [
    {
     "data": {
      "text/plain": [
       "['hello', 23, None, 'banana']"
      ]
     },
     "execution_count": 34,
     "metadata": {},
     "output_type": "execute_result"
    }
   ],
   "source": [
    "fruits"
   ]
  },
  {
   "cell_type": "code",
   "execution_count": 35,
   "id": "f3a2d9ec",
   "metadata": {},
   "outputs": [],
   "source": [
    "fruits.remove(23)"
   ]
  },
  {
   "cell_type": "code",
   "execution_count": 36,
   "id": "990fb521",
   "metadata": {},
   "outputs": [
    {
     "data": {
      "text/plain": [
       "['hello', None, 'banana']"
      ]
     },
     "execution_count": 36,
     "metadata": {},
     "output_type": "execute_result"
    }
   ],
   "source": [
    "fruits"
   ]
  },
  {
   "cell_type": "code",
   "execution_count": 37,
   "id": "d2c49128",
   "metadata": {},
   "outputs": [
    {
     "data": {
      "text/plain": [
       "'banana'"
      ]
     },
     "execution_count": 37,
     "metadata": {},
     "output_type": "execute_result"
    }
   ],
   "source": [
    "fruits.pop()"
   ]
  },
  {
   "cell_type": "code",
   "execution_count": 38,
   "id": "d7a6d32c",
   "metadata": {},
   "outputs": [
    {
     "data": {
      "text/plain": [
       "['hello', None]"
      ]
     },
     "execution_count": 38,
     "metadata": {},
     "output_type": "execute_result"
    }
   ],
   "source": [
    "fruits"
   ]
  },
  {
   "cell_type": "code",
   "execution_count": 39,
   "id": "a8314d52",
   "metadata": {},
   "outputs": [
    {
     "data": {
      "text/plain": [
       "'hello'"
      ]
     },
     "execution_count": 39,
     "metadata": {},
     "output_type": "execute_result"
    }
   ],
   "source": [
    "fruits.pop(0)"
   ]
  },
  {
   "cell_type": "code",
   "execution_count": 40,
   "id": "84d93d6a",
   "metadata": {},
   "outputs": [
    {
     "data": {
      "text/plain": [
       "[None]"
      ]
     },
     "execution_count": 40,
     "metadata": {},
     "output_type": "execute_result"
    }
   ],
   "source": [
    "fruits"
   ]
  },
  {
   "cell_type": "code",
   "execution_count": 41,
   "id": "83c1a6c2",
   "metadata": {},
   "outputs": [
    {
     "data": {
      "text/plain": [
       "True"
      ]
     },
     "execution_count": 41,
     "metadata": {},
     "output_type": "execute_result"
    }
   ],
   "source": [
    "None in fruits"
   ]
  },
  {
   "cell_type": "code",
   "execution_count": 42,
   "id": "80ad988e",
   "metadata": {},
   "outputs": [],
   "source": [
    "fruits = ['banana','blueberry','cherry','apple']"
   ]
  },
  {
   "cell_type": "code",
   "execution_count": 43,
   "id": "46651087",
   "metadata": {},
   "outputs": [
    {
     "data": {
      "text/plain": [
       "['banana', 'blueberry', 'cherry', 'apple']"
      ]
     },
     "execution_count": 43,
     "metadata": {},
     "output_type": "execute_result"
    }
   ],
   "source": [
    "fruits"
   ]
  },
  {
   "cell_type": "code",
   "execution_count": 44,
   "id": "d0fe16c8",
   "metadata": {},
   "outputs": [
    {
     "data": {
      "text/plain": [
       "True"
      ]
     },
     "execution_count": 44,
     "metadata": {},
     "output_type": "execute_result"
    }
   ],
   "source": [
    "'banana' in fruits"
   ]
  },
  {
   "cell_type": "code",
   "execution_count": 45,
   "id": "a9693450",
   "metadata": {},
   "outputs": [],
   "source": [
    "fruits.sort()"
   ]
  },
  {
   "cell_type": "code",
   "execution_count": 46,
   "id": "192d60d1",
   "metadata": {},
   "outputs": [
    {
     "data": {
      "text/plain": [
       "['apple', 'banana', 'blueberry', 'cherry']"
      ]
     },
     "execution_count": 46,
     "metadata": {},
     "output_type": "execute_result"
    }
   ],
   "source": [
    "fruits"
   ]
  },
  {
   "cell_type": "code",
   "execution_count": 47,
   "id": "0fcc781e",
   "metadata": {},
   "outputs": [],
   "source": [
    "person1 = {\n",
    "    'name':'Vojas',\n",
    "    'lastName':'G',\n",
    "    'Age': 22,\n",
    "    \n",
    "}"
   ]
  },
  {
   "cell_type": "code",
   "execution_count": 48,
   "id": "56b2bed4",
   "metadata": {},
   "outputs": [
    {
     "data": {
      "text/plain": [
       "{'name': 'Vojas', 'lastName': 'G', 'Age': 22}"
      ]
     },
     "execution_count": 48,
     "metadata": {},
     "output_type": "execute_result"
    }
   ],
   "source": [
    "person1"
   ]
  },
  {
   "cell_type": "code",
   "execution_count": 49,
   "id": "9c629329",
   "metadata": {},
   "outputs": [],
   "source": [
    "person2 = dict(name='Harry',Age='23')"
   ]
  },
  {
   "cell_type": "code",
   "execution_count": 50,
   "id": "3326b327",
   "metadata": {},
   "outputs": [
    {
     "data": {
      "text/plain": [
       "{'name': 'Harry', 'Age': '23'}"
      ]
     },
     "execution_count": 50,
     "metadata": {},
     "output_type": "execute_result"
    }
   ],
   "source": [
    "person2"
   ]
  },
  {
   "cell_type": "code",
   "execution_count": 51,
   "id": "0237acae",
   "metadata": {},
   "outputs": [
    {
     "data": {
      "text/plain": [
       "'Vojas'"
      ]
     },
     "execution_count": 51,
     "metadata": {},
     "output_type": "execute_result"
    }
   ],
   "source": [
    "person1['name']"
   ]
  },
  {
   "cell_type": "code",
   "execution_count": 52,
   "id": "a994f0f1",
   "metadata": {},
   "outputs": [
    {
     "data": {
      "text/plain": [
       "True"
      ]
     },
     "execution_count": 52,
     "metadata": {},
     "output_type": "execute_result"
    }
   ],
   "source": [
    "'name' in person1"
   ]
  },
  {
   "cell_type": "code",
   "execution_count": 53,
   "id": "a1e9a807",
   "metadata": {},
   "outputs": [],
   "source": [
    "person1['name'] = 'Cristiano'"
   ]
  },
  {
   "cell_type": "code",
   "execution_count": 54,
   "id": "7760d72e",
   "metadata": {},
   "outputs": [
    {
     "data": {
      "text/plain": [
       "'Cristiano'"
      ]
     },
     "execution_count": 54,
     "metadata": {},
     "output_type": "execute_result"
    }
   ],
   "source": [
    "person1['name']"
   ]
  },
  {
   "cell_type": "code",
   "execution_count": 55,
   "id": "f0e94bab",
   "metadata": {},
   "outputs": [
    {
     "name": "stdout",
     "output_type": "stream",
     "text": [
      "We are in even\n"
     ]
    }
   ],
   "source": [
    "number = 30\n",
    "if number%2 == 0 :\n",
    "    print(\"We are in even\")\n",
    "else:\n",
    "    print(\"We are in odd\")"
   ]
  },
  {
   "cell_type": "code",
   "execution_count": 56,
   "id": "9e4f3672",
   "metadata": {},
   "outputs": [
    {
     "name": "stdout",
     "output_type": "stream",
     "text": [
      "hello\n"
     ]
    }
   ],
   "source": [
    "print(\"hello\")"
   ]
  },
  {
   "cell_type": "code",
   "execution_count": 58,
   "id": "721f1fb0",
   "metadata": {},
   "outputs": [
    {
     "name": "stdout",
     "output_type": "stream",
     "text": [
      "120\n"
     ]
    }
   ],
   "source": [
    "number = 5\n",
    "fact=1\n",
    "while(number):\n",
    "    fact = fact *number\n",
    "    number -= 1\n",
    "print(fact)"
   ]
  },
  {
   "cell_type": "code",
   "execution_count": 68,
   "id": "29a59d61",
   "metadata": {},
   "outputs": [
    {
     "name": "stdout",
     "output_type": "stream",
     "text": [
      "5 factorial is 120\n",
      "CPU times: total: 0 ns\n",
      "Wall time: 0 ns\n"
     ]
    }
   ],
   "source": [
    "%%time\n",
    "\n",
    "num = 5\n",
    "fact=1\n",
    "number = num\n",
    "while(number):\n",
    "    fact = fact *number\n",
    "    number -= 1\n",
    "    \n",
    "print('{} factorial is {}'.format(num,fact))"
   ]
  },
  {
   "cell_type": "code",
   "execution_count": 69,
   "id": "2ae9bdaa",
   "metadata": {},
   "outputs": [
    {
     "name": "stdout",
     "output_type": "stream",
     "text": [
      "0\n",
      "1\n",
      "2\n",
      "3\n",
      "4\n"
     ]
    }
   ],
   "source": [
    "for i in range(0,5):\n",
    "    print(i)"
   ]
  },
  {
   "cell_type": "code",
   "execution_count": 86,
   "id": "07738c04",
   "metadata": {},
   "outputs": [
    {
     "data": {
      "text/plain": [
       "10.0"
      ]
     },
     "execution_count": 86,
     "metadata": {},
     "output_type": "execute_result"
    }
   ],
   "source": [
    "def emi(amount,duration,rate):\n",
    "    emi = (amount*duration*rate)/100\n",
    "    return emi\n",
    "\n",
    "emi(100,1,10)"
   ]
  },
  {
   "cell_type": "code",
   "execution_count": 87,
   "id": "6532314b",
   "metadata": {},
   "outputs": [
    {
     "data": {
      "text/plain": [
       "240.0"
      ]
     },
     "execution_count": 87,
     "metadata": {},
     "output_type": "execute_result"
    }
   ],
   "source": [
    "emi(\n",
    "    amount=120,\n",
    "    duration=2,\n",
    "    rate=100\n",
    ")\n",
    "\n",
    "# Named arguements"
   ]
  },
  {
   "cell_type": "code",
   "execution_count": 88,
   "id": "739164d5",
   "metadata": {},
   "outputs": [
    {
     "name": "stdout",
     "output_type": "stream",
     "text": [
      "1.096\n"
     ]
    }
   ],
   "source": [
    "emi1 = emi(\n",
    "    amount=137,\n",
    "    duration=10*12,\n",
    "    rate=0.08/12\n",
    ")\n",
    "\n",
    "print(emi1)"
   ]
  },
  {
   "cell_type": "code",
   "execution_count": 95,
   "id": "7290439d",
   "metadata": {},
   "outputs": [],
   "source": [
    "import math"
   ]
  },
  {
   "cell_type": "code",
   "execution_count": 90,
   "id": "a5dbcef5",
   "metadata": {},
   "outputs": [
    {
     "name": "stdout",
     "output_type": "stream",
     "text": [
      "Help on built-in function ceil in module math:\n",
      "\n",
      "ceil(x, /)\n",
      "    Return the ceiling of x as an Integral.\n",
      "    \n",
      "    This is the smallest integer >= x.\n",
      "\n"
     ]
    }
   ],
   "source": [
    "help(math.ceil)"
   ]
  },
  {
   "cell_type": "code",
   "execution_count": 96,
   "id": "97ed4eaa",
   "metadata": {},
   "outputs": [
    {
     "data": {
      "text/plain": [
       "2"
      ]
     },
     "execution_count": 96,
     "metadata": {},
     "output_type": "execute_result"
    }
   ],
   "source": [
    "math.ceil(emi1)"
   ]
  },
  {
   "cell_type": "code",
   "execution_count": null,
   "id": "e50166b2",
   "metadata": {},
   "outputs": [],
   "source": []
  }
 ],
 "metadata": {
  "kernelspec": {
   "display_name": "Python 3 (ipykernel)",
   "language": "python",
   "name": "python3"
  },
  "language_info": {
   "codemirror_mode": {
    "name": "ipython",
    "version": 3
   },
   "file_extension": ".py",
   "mimetype": "text/x-python",
   "name": "python",
   "nbconvert_exporter": "python",
   "pygments_lexer": "ipython3",
   "version": "3.10.5"
  }
 },
 "nbformat": 4,
 "nbformat_minor": 5
}
